{
 "cells": [
  {
   "cell_type": "markdown",
   "metadata": {},
   "source": [
    "## V-Shaped Multigrid approach for a 1D diffusion problem\n",
    "### Abhijeet Sutar"
   ]
  },
  {
   "cell_type": "code",
   "execution_count": 1,
   "metadata": {},
   "outputs": [],
   "source": [
    "import numpy as np\n",
    "from matplotlib import pyplot as plt\n",
    "from numba import jit\n",
    "from IPython.display import clear_output"
   ]
  },
  {
   "cell_type": "code",
   "execution_count": 2,
   "metadata": {},
   "outputs": [],
   "source": [
    "@jit(nopython = True)\n",
    "def ABgen(nx, dx, k, Ar, q, TA, TB):\n",
    "    A = np.zeros((nx,nx))\n",
    "    B = np.zeros(nx)\n",
    "    \n",
    "    ae = k * Ar / dx\n",
    "    aw = 0 - ae\n",
    "    ae2 = 2 * ae\n",
    "    Sp = 0 - ae2\n",
    "    Su = q * Ar * dx\n",
    "    ##for A\n",
    "    for i in range(nx):\n",
    "        if (i == 0):\n",
    "            A[i,i] = 3 * ae\n",
    "            A[i,i+1] = aw\n",
    "        elif (i>0) and (i < (nx-1)):\n",
    "            A[i,i-1] = aw\n",
    "            A[i,i] = ae2\n",
    "            A[i,i+1] = aw\n",
    "        elif (i == (nx-1)) :\n",
    "            A[i,i-1] = aw\n",
    "            A[i,i] = 3 * ae\n",
    "        \n",
    "    ##for B\n",
    "    for i in range(nx):\n",
    "        if (i == 0):\n",
    "            B[i] = Su + ae2 * TA\n",
    "        elif (i > 0) and (i < (nx-1)) :\n",
    "            B[i] = Su\n",
    "        elif(i == (nx-1)):\n",
    "            B[i] = Su + ae2 * TB\n",
    "            \n",
    "    return A, B"
   ]
  },
  {
   "cell_type": "code",
   "execution_count": 3,
   "metadata": {},
   "outputs": [],
   "source": [
    "@jit(nopython = True)\n",
    "def TDMA(nx, dx, k, Ar, q, TA, TB):\n",
    "    A , B = ABgen(nx, dx, k, Ar, q, TA, TB)\n",
    "    n = len(B)\n",
    "    x = np.zeros(n)\n",
    "    \n",
    "    for i in range(1,n):\n",
    "        q = A[i, i-1] / A[i-1,i-1]\n",
    "        #A[i,i-1] = A[i, i-1] / A[i-1,i-1]\n",
    "        A[i,i] = A[i,i] - (A[i,i-1] * q)\n",
    "                   \n",
    "        B[i] = B[i] - q * B[i-1]\n",
    "        \n",
    "    q = B[-1] / A[-1,-1]\n",
    "    x[-1] = q\n",
    "    for i in range(n-2, -1, -1):\n",
    "        q = ( B[i] - A[i,i+1] * q ) / A[i,i]\n",
    "        x[i] = q\n",
    "    return x"
   ]
  },
  {
   "cell_type": "code",
   "execution_count": 4,
   "metadata": {},
   "outputs": [],
   "source": [
    "@jit(nopython = True)\n",
    "def GaussSeidel(A, B, y):\n",
    "    ## y is initial guess\n",
    "    matsize = len(y)\n",
    "    for i in range(matsize):\n",
    "        y[i] = 0\n",
    "        for j in range(matsize):\n",
    "            if (j!=i) and (A[i,j]!=0):\n",
    "                y[i] += -A[i,j] / A[i,i] * y[j]\n",
    "        \n",
    "        y[i] += B[i] / A[i,i]\n",
    "        \n",
    "    return y\n",
    "    \n",
    "            "
   ]
  },
  {
   "cell_type": "code",
   "execution_count": 5,
   "metadata": {},
   "outputs": [],
   "source": [
    "def StdGS1grid(nx, dx, k, Ar, q, TA, TB):\n",
    "    Ah , Bh = ABgen(nx, dx, k, Ar, q, TA, TB)\n",
    "    erms = 1\n",
    "    yh = np.zeros_like(Bh)\n",
    "    yh[:] = min(TA,TB)\n",
    "    stepcount = 0\n",
    "    while(erms > 1e-6):\n",
    "        yh = GaussSeidel(Ah,Bh,yh)\n",
    "        rh = residual(Ah,Bh,yh)\n",
    "        erms = rmsf(rh)\n",
    "        stepcount +=1\n",
    "        clear_output(wait=True)\n",
    "        print(stepcount, erms, flush=True)\n",
    "    print(stepcount)\n",
    "    return yh, erms"
   ]
  },
  {
   "cell_type": "code",
   "execution_count": 6,
   "metadata": {},
   "outputs": [],
   "source": [
    "@jit(nopython = True)\n",
    "def rmsf(R):\n",
    "    r = np.sqrt(np.mean(np.square(R)))\n",
    "    return r"
   ]
  },
  {
   "cell_type": "code",
   "execution_count": 7,
   "metadata": {},
   "outputs": [],
   "source": [
    "def residual(A, B, y):\n",
    "    r = np.zeros_like(y)\n",
    "    r = B - A @ y\n",
    "    return r"
   ]
  },
  {
   "cell_type": "code",
   "execution_count": 8,
   "metadata": {},
   "outputs": [],
   "source": [
    "@jit(nopython= True)\n",
    "def Rextrapolate2(y):\n",
    "    ## y needs even number of elements\n",
    "    y2h = np.zeros(int(len(y)/2))\n",
    "    for i in range(len(y2h)):\n",
    "        y2h[i] = (y[2*i] + y[2*i+1]) / 2\n",
    "    \n",
    "    return y2h"
   ]
  },
  {
   "cell_type": "code",
   "execution_count": 9,
   "metadata": {},
   "outputs": [],
   "source": [
    "@jit(nopython = True)\n",
    "def Interpolateback2(e):\n",
    "    ## e is a vector\n",
    "    xaxis = len(e)\n",
    "    yaxis = 2 * len(e) \n",
    "    I = np.zeros((yaxis, xaxis))\n",
    "    j_arr = np.arange(len(e)) + 1\n",
    "    for j in j_arr:\n",
    "        if (j != 1):\n",
    "            I[2*j-3,j-1] = 0.25\n",
    "        I[2*j-2,j-1] = 0.75\n",
    "        I[2*j-1,j-1] = 0.75\n",
    "        if (j != j_arr[-1]):\n",
    "            I[2*j  ,j-1] = 0.25\n",
    "        \n",
    "    return I"
   ]
  },
  {
   "cell_type": "code",
   "execution_count": 10,
   "metadata": {},
   "outputs": [],
   "source": [
    "def V2multgrid(nx, dx, k, Ar, q, TA, TB):\n",
    "    if ((nx % 4) != 0):\n",
    "        print(\"use nx value divisible by 4\")\n",
    "        return \n",
    "    Ah , Bh = ABgen(nx, dx, k, Ar, q, TA, TB)\n",
    "    erms = 1\n",
    "    yh = np.zeros_like(Bh)\n",
    "    yh[:] = min(TA,TB)\n",
    "    stepcount = 0\n",
    "    while(erms > 1e-6):\n",
    "        ## fine grid\n",
    "        for i in range(5):\n",
    "            yh = GaussSeidel(Ah,Bh,yh)\n",
    "            stepcount +=1\n",
    "        rh = residual(Ah,Bh,yh)\n",
    "        r2h = Rextrapolate2(rh)\n",
    "        \n",
    "        ## half resolution\n",
    "        A2h, B2h = ABgen(int(nx/2), 2*dx, k, Ar, q, TA, TB)\n",
    "        e2h = np.zeros_like(r2h)\n",
    "        for i in range(10):\n",
    "            e2h = GaussSeidel(A2h,r2h,e2h)\n",
    "            stepcount +=1\n",
    "        r2h = residual(A2h,r2h,e2h)\n",
    "        r4h = Rextrapolate2(r2h)\n",
    "        \n",
    "        ## quarter resolution\n",
    "        A4h, B4h = ABgen(int(nx/4), 4*dx, k, Ar, q, TA, TB)\n",
    "        e4h = np.zeros_like(r4h)\n",
    "        for i in range(10):\n",
    "            e4h = GaussSeidel(A4h,r4h,e4h)\n",
    "            stepcount +=1\n",
    "        r4h = residual(A4h,r4h,e4h)\n",
    "        \n",
    "        ## Interpolate\n",
    "        ep2h = Interpolateback2(e4h)@e4h\n",
    "        ec2h = e2h + ep2h\n",
    "        \n",
    "        ##smoothening\n",
    "        for i in range(2):\n",
    "            ec2h = GaussSeidel(A2h,r2h,ec2h)\n",
    "            stepcount +=1\n",
    "        \n",
    "        ##final Interpolation\n",
    "        eph = Interpolateback2(ec2h)@ec2h\n",
    "        yc = yh + eph\n",
    "        \n",
    "        rfh = residual(Ah,Bh,yc)\n",
    "        erms = rmsf(rfh)\n",
    "        \n",
    "        clear_output(wait=True)\n",
    "        print(stepcount, erms, flush=True)\n",
    "    \n",
    "    print(stepcount)\n",
    "    return yc, erms "
   ]
  },
  {
   "cell_type": "code",
   "execution_count": 11,
   "metadata": {},
   "outputs": [
    {
     "name": "stdout",
     "output_type": "stream",
     "text": [
      "3618 9.409480278510592e-07\n",
      "3618\n",
      "265 ms ± 19.1 ms per loop (mean ± std. dev. of 7 runs, 1 loop each)\n"
     ]
    }
   ],
   "source": [
    "# RR = 01(B17ME001)\n",
    "%timeit ymultG, ermsmultG = V2multgrid(20, 0.05, 5, 0.01, 20e3, 101, 501)"
   ]
  },
  {
   "cell_type": "code",
   "execution_count": 12,
   "metadata": {},
   "outputs": [
    {
     "name": "stdout",
     "output_type": "stream",
     "text": [
      "666 9.931054224053007e-07\n",
      "666\n",
      "1.08 s ± 10.6 ms per loop (mean ± std. dev. of 7 runs, 1 loop each)\n"
     ]
    }
   ],
   "source": [
    "%timeit y1G, erms1G = StdGS1grid(20, 0.05, 5, 0.01, 20e3, 101, 501)"
   ]
  },
  {
   "cell_type": "code",
   "execution_count": 13,
   "metadata": {},
   "outputs": [
    {
     "name": "stdout",
     "output_type": "stream",
     "text": [
      "The slowest run took 8.10 times longer than the fastest. This could mean that an intermediate result is being cached.\n",
      "6.84 µs ± 7.5 µs per loop (mean ± std. dev. of 7 runs, 1 loop each)\n"
     ]
    }
   ],
   "source": [
    "%timeit x = TDMA(20, 0.05, 5, 0.01, 20e3, 101, 501)"
   ]
  },
  {
   "cell_type": "code",
   "execution_count": 14,
   "metadata": {},
   "outputs": [
    {
     "name": "stdout",
     "output_type": "stream",
     "text": [
      "666 9.931054224053007e-07\n",
      "666\n"
     ]
    }
   ],
   "source": [
    "ymultG, ermsmultG = V2multgrid(20, 0.05, 5, 0.01, 20e3, 101, 501)\n",
    "y1G, erms1G = StdGS1grid(20, 0.05, 5, 0.01, 20e3, 101, 501)\n",
    "x = TDMA(20, 0.05, 5, 0.01, 20e3, 101, 501)"
   ]
  },
  {
   "cell_type": "code",
   "execution_count": 15,
   "metadata": {},
   "outputs": [
    {
     "name": "stdout",
     "output_type": "stream",
     "text": [
      "TDMA solution            Multi Grid               Error Multi grid         Error Percentage MG      \n",
      "160.99999999999997       160.9999980686496        1.931350368522544e-06    1.1995965021879159e-06   \n",
      "270.99999999999994       270.99999177320854       8.226791408105782e-06    3.035716386754902e-06    \n",
      "371.0                    370.99998666861705       1.333138294512537e-05    3.5933646752359487e-06   \n",
      "461.0                    460.9999819668949        1.8033105106951552e-05   3.911736465716172e-06    \n",
      "541.0                    540.999977831657         2.2168342979966837e-05   4.097660439919934e-06    \n",
      "611.0                    610.999974311232         2.568876800523867e-05    4.204381015587344e-06    \n",
      "670.9999999999999        670.9999715152898        2.8484710128395818e-05   4.245113282920391e-06    \n",
      "720.9999999999998        720.9999694678937        3.053210605230561e-05    4.234688772857921e-06    \n",
      "760.9999999999998        760.9999682168433        3.17831564871085e-05     4.1764988813546e-06      \n",
      "790.9999999999998        790.9999677721519        3.222784789613797e-05    4.074317053873323e-06    \n",
      "810.9999999999997        810.9999681181478        3.188185189628712e-05    3.931177792390522e-06    \n",
      "820.9999999999994        820.9999692404944        3.075950507991365e-05    3.7465901437166472e-06   \n",
      "820.9999999999993        820.9999710646193        2.893537998716056e-05    3.5244068193861856e-06   \n",
      "810.9999999999993        810.9999735852837        2.6414715648570564e-05   3.257054950501922e-06    \n",
      "790.9999999999993        790.9999766790226        2.3320976765717205e-05   2.9482903622904203e-06   \n",
      "760.9999999999993        760.9999802898568        1.971014251012093e-05    2.590031867295788e-06    \n",
      "720.9999999999993        720.999984259648         1.574035127305251e-05    2.183127777122403e-06    \n",
      "670.9999999999994        670.9999885881595        1.1411839977881755e-05   1.7007213081791008e-06   \n",
      "610.9999999999997        610.9999930994404        6.900559242239979e-06    1.1293877646873948e-06   \n",
      "540.9999999999999        540.9999983265998        1.6734001064833137e-06   3.093161010135516e-07    \n"
     ]
    }
   ],
   "source": [
    "format_row = \"{:<25}\" * (4)\n",
    "print(format_row.format(\"TDMA solution\", \"Multi Grid\", \"Error Multi grid\", \"Error Percentage MG\"))\n",
    "for i in range(len(x)):\n",
    "    print(format_row.format(x[i], ymultG[i], x[i] - ymultG[i], (x[i] - ymultG[i])/x[i]*100))"
   ]
  },
  {
   "cell_type": "code",
   "execution_count": 16,
   "metadata": {},
   "outputs": [
    {
     "name": "stdout",
     "output_type": "stream",
     "text": [
      "TDMA solution            Single Grid GS           Error Single grid        Error Percentage SG      \n",
      "160.99999999999997       160.99999503568256       4.964317412259334e-06    3.083426964136233e-06    \n",
      "270.99999999999994       270.99998547128          1.4528719930240186e-05   5.361151265771287e-06    \n",
      "371.0                    370.9999764961156        2.3503884392539476e-05   6.335278812005249e-06    \n",
      "461.0                    460.9999683152814        3.168471857861732e-05    6.873040906424581e-06    \n",
      "541.0                    540.9999611094269        3.8890573136995954e-05   7.188645681514963e-06    \n",
      "611.0                    610.9999550309385        4.4969061491428874e-05   7.359911864390977e-06    \n",
      "670.9999999999999        670.9999502009044        4.9799095449998276e-05   7.4216237630399835e-06   \n",
      "720.9999999999998        720.9999467069183        5.329308146428957e-05    7.39155082722463e-06     \n",
      "760.9999999999998        760.9999446017562        5.5398243603121955e-05   7.2796640739976316e-06   \n",
      "790.9999999999998        790.9999439029373        5.609706249742885e-05    7.0919168770453696e-06   \n",
      "810.9999999999997        810.9999445931579        5.540684173865884e-05    6.8319163672822275e-06   \n",
      "820.9999999999994        820.9999466215662        5.337843322195113e-05    6.501636202430105e-06    \n",
      "820.9999999999993        820.9999499058264        5.0094172934223025e-05   6.101604498687341e-06    \n",
      "810.9999999999993        810.9999543349022        4.566509710457467e-05    5.6307148094420106e-06   \n",
      "790.9999999999993        790.999959772475         4.022752432319976e-05    5.0856541495827806e-06   \n",
      "760.9999999999993        760.999966060895         3.393910435534053e-05    4.459803463251059e-06    \n",
      "720.9999999999993        720.9999730255593        2.6974440061167115e-05   3.741253822630671e-06    \n",
      "670.9999999999994        670.9999804795965        1.95204029296292e-05     2.9091509582159784e-06   \n",
      "610.9999999999997        610.9999882287373        1.1771262393267534e-05   1.926556856508599e-06    \n",
      "540.9999999999999        540.9999960762457        3.923754206880403e-06    7.252780419372281e-07    \n"
     ]
    }
   ],
   "source": [
    "format_row = \"{:<25}\" * (4)\n",
    "print(format_row.format(\"TDMA solution\", \"Single Grid GS\", \"Error Single grid\", \"Error Percentage SG\"))\n",
    "for i in range(len(x)):\n",
    "    print(format_row.format(x[i], y1G[i], x[i] - y1G[i], (x[i] - y1G[i])/x[i]*100))"
   ]
  },
  {
   "cell_type": "code",
   "execution_count": 17,
   "metadata": {},
   "outputs": [
    {
     "data": {
      "text/plain": [
       "Text(0, 0.5, 'Temperature in deg C')"
      ]
     },
     "execution_count": 17,
     "metadata": {},
     "output_type": "execute_result"
    },
    {
     "data": {
      "image/png": "[encoded data removed]",
      "text/plain": [
       "<Figure size 800x1100 with 1 Axes>"
      ]
     },
     "metadata": {
      "needs_background": "light"
     },
     "output_type": "display_data"
    }
   ],
   "source": [
    "fig1 = plt.figure(figsize = (8,11), dpi = 100)\n",
    "plt.plot(x, marker = \"x\", label = \"TDMA\", linewidth = 0.5)\n",
    "plt.plot(ymultG, marker = \"*\", label=\"V-cycle Multi Grid\", linewidth = 0.5)\n",
    "plt.grid()\n",
    "plt.legend()\n",
    "plt.xlabel(\"nodes\")\n",
    "plt.ylabel(\"Temperature in deg C\")\n"
   ]
  },
  {
   "cell_type": "code",
   "execution_count": 18,
   "metadata": {},
   "outputs": [
    {
     "data": {
      "text/plain": [
       "(array([[ 375, -125,    0,    0,    0],\n",
       "        [-125,  250, -125,    0,    0],\n",
       "        [   0, -125,  250, -125,    0],\n",
       "        [   0,    0, -125,  250, -125],\n",
       "        [   0,    0,    0, -125,  375]]),\n",
       " array([29000,  4000,  4000,  4000, 54000]))"
      ]
     },
     "execution_count": 18,
     "metadata": {},
     "output_type": "execute_result"
    }
   ],
   "source": [
    "y = np.zeros(5)\n",
    "A = np.array([[375,-125,0,0,0], [-125,250,-125,0,0],[0,-125,250,-125,0],[0,0,-125,250,-125],[0,0,0,-125,375]])\n",
    "B = np.array([29000,4000,4000,4000,54000])\n",
    "A, B"
   ]
  },
  {
   "cell_type": "code",
   "execution_count": 19,
   "metadata": {},
   "outputs": [
    {
     "data": {
      "text/plain": [
       "array([150.74805874, 220.24417621, 257.15830921, 260.26836643,\n",
       "       230.96750903])"
      ]
     },
     "execution_count": 19,
     "metadata": {},
     "output_type": "execute_result"
    }
   ],
   "source": [
    "n = len(B)\n",
    "x = np.zeros(n)\n",
    "\n",
    "for i in range(1,n):\n",
    "    q = A[i, i-1] / A[i-1,i-1]\n",
    "    #A[i,i-1] = A[i, i-1] / A[i-1,i-1]\n",
    "    A[i,i] = A[i,i] - (A[i,i-1] * q)\n",
    "\n",
    "    B[i] = B[i] - q * B[i-1]\n",
    "\n",
    "q = B[-1] / A[-1,-1]\n",
    "x[-1] = q\n",
    "for i in range(n-2, -1, -1):\n",
    "    q = ( B[i] - A[i,i+1] * q ) / A[i,i]\n",
    "    x[i] = q\n",
    "    \n",
    "x"
   ]
  },
  {
   "cell_type": "code",
   "execution_count": null,
   "metadata": {},
   "outputs": [],
   "source": []
  }
 ],
 "metadata": {
  "kernelspec": {
   "display_name": "Python 3",
   "language": "python",
   "name": "python3"
  },
  "language_info": {
   "codemirror_mode": {
    "name": "ipython",
    "version": 3
   },
   "file_extension": ".py",
   "mimetype": "text/x-python",
   "name": "python",
   "nbconvert_exporter": "python",
   "pygments_lexer": "ipython3",
   "version": "3.7.6"
  }
 },
 "nbformat": 4,
 "nbformat_minor": 4
}
